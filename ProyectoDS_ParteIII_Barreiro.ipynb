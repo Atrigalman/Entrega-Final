{
  "cells": [
    {
      "cell_type": "markdown",
      "metadata": {
        "id": "view-in-github",
        "colab_type": "text"
      },
      "source": [
        "<a href=\"https://colab.research.google.com/github/Atrigalman/ProyectoDS-ParteIII-Barreiro.ipynb/blob/main/ProyectoDS_ParteIII_Barreiro.ipynb\" target=\"_parent\"><img src=\"https://colab.research.google.com/assets/colab-badge.svg\" alt=\"Open In Colab\"/></a>"
      ]
    },
    {
      "cell_type": "markdown",
      "source": [
        "# **Metadata**\n"
      ],
      "metadata": {
        "id": "PddDslVBOp-g"
      }
    },
    {
      "cell_type": "markdown",
      "source": [
        "**El conjunto de datos Proporciona Informacion de aquellas comunicaciones recibidas por la Línea 144 denominadas intervenciones, en donde las personas que se comunican acceden a dejar sus datos para un adecuado abordaje y seguimiento. La Línea 144 brinda atención a mujeres y LGBTI+ en situación de violencia de género.**\n",
        "\n",
        "**Este DataSet Proporciona Informacion Detallada de cada caso en el cual es proporcionada por cada victima, en este caso, las victimas en su derecho deciden de compartir la informacion, limitando cada consulta a responder o no, ya que en muchos casos, proporcinar informacion delante del agresor suele ser una dificultad.**\n",
        "\n",
        "**El dataset recopila la información recuperada de la página https://datos.gob.ar/ consolidando desde el 2020 hasta el 2023.**\n",
        "\n",
        "**Acorde a los resultados del último censo realizado en el 2022 se enriquecio con la cantidad de población de cada provincia.**\n",
        "\n",
        "**El conjunto de datos fue obtenido de :https://www.kaggle.com/datasets/aracelifernandez/base-de-datos-linea-144-argentina?resource=download, el cual proviene de la pagina del gobierno antes mencionada**"
      ],
      "metadata": {
        "id": "mXiIOx_ZOxHa"
      }
    },
    {
      "cell_type": "markdown",
      "metadata": {
        "id": "xK6vlTGrg3Bp"
      },
      "source": [
        "## **CARGA DEL ARCHIVO A TRABAJAR**\n",
        "\n",
        "> Agregar bloque entrecomillado\n",
        "\n"
      ]
    },
    {
      "cell_type": "code",
      "execution_count": 53,
      "metadata": {
        "id": "Yw8UiRXKEgWR"
      },
      "outputs": [],
      "source": [
        "from google.colab import files\n",
        "import os"
      ]
    },
    {
      "cell_type": "code",
      "execution_count": 55,
      "metadata": {
        "id": "7-BrWmDFFKC1",
        "colab": {
          "base_uri": "https://localhost:8080/"
        },
        "outputId": "67e916c3-0bb4-4e34-dc82-dfb2e5df46bb"
      },
      "outputs": [
        {
          "output_type": "stream",
          "name": "stdout",
          "text": [
            "Requirement already satisfied: unidecode in /usr/local/lib/python3.10/dist-packages (1.3.8)\n"
          ]
        }
      ],
      "source": [
        "import pandas as pd\n",
        "import numpy as np\n",
        "import matplotlib.pyplot as plt\n",
        "import seaborn as sns\n",
        "!pip install unidecode"
      ]
    },
    {
      "cell_type": "code",
      "execution_count": 56,
      "metadata": {
        "id": "q8RGgCIGFga-"
      },
      "outputs": [],
      "source": [
        "archivo_excel = \"Dataset 144.xlsx\""
      ]
    },
    {
      "cell_type": "code",
      "execution_count": 57,
      "metadata": {
        "id": "zIqwYb28FLh0"
      },
      "outputs": [],
      "source": [
        "df = pd.read_excel(archivo_excel)\n",
        "\n"
      ]
    },
    {
      "cell_type": "code",
      "execution_count": 63,
      "metadata": {
        "colab": {
          "base_uri": "https://localhost:8080/",
          "height": 342
        },
        "id": "n0UR01VBGBR6",
        "outputId": "2c27250c-4f7c-4f9c-b046-d120558968ca",
        "collapsed": true
      },
      "outputs": [
        {
          "output_type": "execute_result",
          "data": {
            "text/plain": [
              "    Año                Fecha prov_persona_en_situacion_violencia  \\\n",
              "0  2023  2023-01-01 00:00:00                        Buenos Aires   \n",
              "1  2023  2023-01-01 00:00:00                        Buenos Aires   \n",
              "2  2023  2023-01-01 00:00:00                        Buenos Aires   \n",
              "3  2023  2023-01-01 00:00:00                          Entre Ríos   \n",
              "4  2023  2023-01-01 00:00:00                             Mendoza   \n",
              "\n",
              "  genero_persona_en_situacion_de_violencia  \\\n",
              "0                                    Mujer   \n",
              "1                                    Mujer   \n",
              "2                                    Mujer   \n",
              "3                                    Mujer   \n",
              "4                                    Mujer   \n",
              "\n",
              "   edad_persona_en_situacion_de_violencia  \\\n",
              "0                                     NaN   \n",
              "1                                    19.0   \n",
              "2                                    46.0   \n",
              "3                                    28.0   \n",
              "4                                    34.0   \n",
              "\n",
              "  pais_nacimiento_persona_en_situacion_de_violencia tipo_de_violencia_fisica  \\\n",
              "0                                               NaN                       Si   \n",
              "1                                         Argentina                       Si   \n",
              "2                                         Argentina                       Si   \n",
              "3                                               NaN                       No   \n",
              "4                                         Argentina                       No   \n",
              "\n",
              "  tipo_de_violencia_psicologica tipo_de_violencia_sexual  \\\n",
              "0                            Si                       No   \n",
              "1                            Si                       Si   \n",
              "2                            Si                       No   \n",
              "3                            Si                       No   \n",
              "4                            Si                       No   \n",
              "\n",
              "  tipo_de_violencia_economica_y_patrimonial  ... tipo_de_violencia_domestica  \\\n",
              "0                                        No  ...                          Si   \n",
              "1                                        No  ...                          No   \n",
              "2                                        No  ...                          Si   \n",
              "3                                        No  ...                          Si   \n",
              "4                                        No  ...                          Si   \n",
              "\n",
              "  modalidad_de_violencia_institucional modalidad_de_violencia_laboral  \\\n",
              "0                                   No                             No   \n",
              "1                                   No                             No   \n",
              "2                                   No                             No   \n",
              "3                                   No                             No   \n",
              "4                                   No                             No   \n",
              "\n",
              "  modalidad_violencia_contra_libertad_reproductiva  \\\n",
              "0                                               No   \n",
              "1                                               No   \n",
              "2                                               No   \n",
              "3                                               No   \n",
              "4                                               No   \n",
              "\n",
              "  modalidad_de_violencia_obstetrica modalidad_de_violencia_mediatica  \\\n",
              "0                                No                               No   \n",
              "1                                No                               No   \n",
              "2                                No                               No   \n",
              "3                                No                               No   \n",
              "4                                No                               No   \n",
              "\n",
              "  modalidad_de_violencia_otras vinculo_con_la_persona_agresora  \\\n",
              "0                           No                          Pareja   \n",
              "1                           No                            Otro   \n",
              "2                           No                          Pareja   \n",
              "3                           No                          Pareja   \n",
              "4                           No                       Ex pareja   \n",
              "\n",
              "  genero_de_la_persona_agresora poblacion_provincia  \n",
              "0                         Varon            17569053  \n",
              "1                         Varon            17569053  \n",
              "2                         Varon            17569053  \n",
              "3                         Varon             1426426  \n",
              "4                         Varon             2014533  \n",
              "\n",
              "[5 rows x 21 columns]"
            ],
            "text/html": [
              "\n",
              "  <div id=\"df-a013320f-b63b-44cd-a723-312b334bdef4\" class=\"colab-df-container\">\n",
              "    <div>\n",
              "<style scoped>\n",
              "    .dataframe tbody tr th:only-of-type {\n",
              "        vertical-align: middle;\n",
              "    }\n",
              "\n",
              "    .dataframe tbody tr th {\n",
              "        vertical-align: top;\n",
              "    }\n",
              "\n",
              "    .dataframe thead th {\n",
              "        text-align: right;\n",
              "    }\n",
              "</style>\n",
              "<table border=\"1\" class=\"dataframe\">\n",
              "  <thead>\n",
              "    <tr style=\"text-align: right;\">\n",
              "      <th></th>\n",
              "      <th>Año</th>\n",
              "      <th>Fecha</th>\n",
              "      <th>prov_persona_en_situacion_violencia</th>\n",
              "      <th>genero_persona_en_situacion_de_violencia</th>\n",
              "      <th>edad_persona_en_situacion_de_violencia</th>\n",
              "      <th>pais_nacimiento_persona_en_situacion_de_violencia</th>\n",
              "      <th>tipo_de_violencia_fisica</th>\n",
              "      <th>tipo_de_violencia_psicologica</th>\n",
              "      <th>tipo_de_violencia_sexual</th>\n",
              "      <th>tipo_de_violencia_economica_y_patrimonial</th>\n",
              "      <th>...</th>\n",
              "      <th>tipo_de_violencia_domestica</th>\n",
              "      <th>modalidad_de_violencia_institucional</th>\n",
              "      <th>modalidad_de_violencia_laboral</th>\n",
              "      <th>modalidad_violencia_contra_libertad_reproductiva</th>\n",
              "      <th>modalidad_de_violencia_obstetrica</th>\n",
              "      <th>modalidad_de_violencia_mediatica</th>\n",
              "      <th>modalidad_de_violencia_otras</th>\n",
              "      <th>vinculo_con_la_persona_agresora</th>\n",
              "      <th>genero_de_la_persona_agresora</th>\n",
              "      <th>poblacion_provincia</th>\n",
              "    </tr>\n",
              "  </thead>\n",
              "  <tbody>\n",
              "    <tr>\n",
              "      <th>0</th>\n",
              "      <td>2023</td>\n",
              "      <td>2023-01-01 00:00:00</td>\n",
              "      <td>Buenos Aires</td>\n",
              "      <td>Mujer</td>\n",
              "      <td>NaN</td>\n",
              "      <td>NaN</td>\n",
              "      <td>Si</td>\n",
              "      <td>Si</td>\n",
              "      <td>No</td>\n",
              "      <td>No</td>\n",
              "      <td>...</td>\n",
              "      <td>Si</td>\n",
              "      <td>No</td>\n",
              "      <td>No</td>\n",
              "      <td>No</td>\n",
              "      <td>No</td>\n",
              "      <td>No</td>\n",
              "      <td>No</td>\n",
              "      <td>Pareja</td>\n",
              "      <td>Varon</td>\n",
              "      <td>17569053</td>\n",
              "    </tr>\n",
              "    <tr>\n",
              "      <th>1</th>\n",
              "      <td>2023</td>\n",
              "      <td>2023-01-01 00:00:00</td>\n",
              "      <td>Buenos Aires</td>\n",
              "      <td>Mujer</td>\n",
              "      <td>19.0</td>\n",
              "      <td>Argentina</td>\n",
              "      <td>Si</td>\n",
              "      <td>Si</td>\n",
              "      <td>Si</td>\n",
              "      <td>No</td>\n",
              "      <td>...</td>\n",
              "      <td>No</td>\n",
              "      <td>No</td>\n",
              "      <td>No</td>\n",
              "      <td>No</td>\n",
              "      <td>No</td>\n",
              "      <td>No</td>\n",
              "      <td>No</td>\n",
              "      <td>Otro</td>\n",
              "      <td>Varon</td>\n",
              "      <td>17569053</td>\n",
              "    </tr>\n",
              "    <tr>\n",
              "      <th>2</th>\n",
              "      <td>2023</td>\n",
              "      <td>2023-01-01 00:00:00</td>\n",
              "      <td>Buenos Aires</td>\n",
              "      <td>Mujer</td>\n",
              "      <td>46.0</td>\n",
              "      <td>Argentina</td>\n",
              "      <td>Si</td>\n",
              "      <td>Si</td>\n",
              "      <td>No</td>\n",
              "      <td>No</td>\n",
              "      <td>...</td>\n",
              "      <td>Si</td>\n",
              "      <td>No</td>\n",
              "      <td>No</td>\n",
              "      <td>No</td>\n",
              "      <td>No</td>\n",
              "      <td>No</td>\n",
              "      <td>No</td>\n",
              "      <td>Pareja</td>\n",
              "      <td>Varon</td>\n",
              "      <td>17569053</td>\n",
              "    </tr>\n",
              "    <tr>\n",
              "      <th>3</th>\n",
              "      <td>2023</td>\n",
              "      <td>2023-01-01 00:00:00</td>\n",
              "      <td>Entre Ríos</td>\n",
              "      <td>Mujer</td>\n",
              "      <td>28.0</td>\n",
              "      <td>NaN</td>\n",
              "      <td>No</td>\n",
              "      <td>Si</td>\n",
              "      <td>No</td>\n",
              "      <td>No</td>\n",
              "      <td>...</td>\n",
              "      <td>Si</td>\n",
              "      <td>No</td>\n",
              "      <td>No</td>\n",
              "      <td>No</td>\n",
              "      <td>No</td>\n",
              "      <td>No</td>\n",
              "      <td>No</td>\n",
              "      <td>Pareja</td>\n",
              "      <td>Varon</td>\n",
              "      <td>1426426</td>\n",
              "    </tr>\n",
              "    <tr>\n",
              "      <th>4</th>\n",
              "      <td>2023</td>\n",
              "      <td>2023-01-01 00:00:00</td>\n",
              "      <td>Mendoza</td>\n",
              "      <td>Mujer</td>\n",
              "      <td>34.0</td>\n",
              "      <td>Argentina</td>\n",
              "      <td>No</td>\n",
              "      <td>Si</td>\n",
              "      <td>No</td>\n",
              "      <td>No</td>\n",
              "      <td>...</td>\n",
              "      <td>Si</td>\n",
              "      <td>No</td>\n",
              "      <td>No</td>\n",
              "      <td>No</td>\n",
              "      <td>No</td>\n",
              "      <td>No</td>\n",
              "      <td>No</td>\n",
              "      <td>Ex pareja</td>\n",
              "      <td>Varon</td>\n",
              "      <td>2014533</td>\n",
              "    </tr>\n",
              "  </tbody>\n",
              "</table>\n",
              "<p>5 rows × 21 columns</p>\n",
              "</div>\n",
              "    <div class=\"colab-df-buttons\">\n",
              "\n",
              "  <div class=\"colab-df-container\">\n",
              "    <button class=\"colab-df-convert\" onclick=\"convertToInteractive('df-a013320f-b63b-44cd-a723-312b334bdef4')\"\n",
              "            title=\"Convert this dataframe to an interactive table.\"\n",
              "            style=\"display:none;\">\n",
              "\n",
              "  <svg xmlns=\"http://www.w3.org/2000/svg\" height=\"24px\" viewBox=\"0 -960 960 960\">\n",
              "    <path d=\"M120-120v-720h720v720H120Zm60-500h600v-160H180v160Zm220 220h160v-160H400v160Zm0 220h160v-160H400v160ZM180-400h160v-160H180v160Zm440 0h160v-160H620v160ZM180-180h160v-160H180v160Zm440 0h160v-160H620v160Z\"/>\n",
              "  </svg>\n",
              "    </button>\n",
              "\n",
              "  <style>\n",
              "    .colab-df-container {\n",
              "      display:flex;\n",
              "      gap: 12px;\n",
              "    }\n",
              "\n",
              "    .colab-df-convert {\n",
              "      background-color: #E8F0FE;\n",
              "      border: none;\n",
              "      border-radius: 50%;\n",
              "      cursor: pointer;\n",
              "      display: none;\n",
              "      fill: #1967D2;\n",
              "      height: 32px;\n",
              "      padding: 0 0 0 0;\n",
              "      width: 32px;\n",
              "    }\n",
              "\n",
              "    .colab-df-convert:hover {\n",
              "      background-color: #E2EBFA;\n",
              "      box-shadow: 0px 1px 2px rgba(60, 64, 67, 0.3), 0px 1px 3px 1px rgba(60, 64, 67, 0.15);\n",
              "      fill: #174EA6;\n",
              "    }\n",
              "\n",
              "    .colab-df-buttons div {\n",
              "      margin-bottom: 4px;\n",
              "    }\n",
              "\n",
              "    [theme=dark] .colab-df-convert {\n",
              "      background-color: #3B4455;\n",
              "      fill: #D2E3FC;\n",
              "    }\n",
              "\n",
              "    [theme=dark] .colab-df-convert:hover {\n",
              "      background-color: #434B5C;\n",
              "      box-shadow: 0px 1px 3px 1px rgba(0, 0, 0, 0.15);\n",
              "      filter: drop-shadow(0px 1px 2px rgba(0, 0, 0, 0.3));\n",
              "      fill: #FFFFFF;\n",
              "    }\n",
              "  </style>\n",
              "\n",
              "    <script>\n",
              "      const buttonEl =\n",
              "        document.querySelector('#df-a013320f-b63b-44cd-a723-312b334bdef4 button.colab-df-convert');\n",
              "      buttonEl.style.display =\n",
              "        google.colab.kernel.accessAllowed ? 'block' : 'none';\n",
              "\n",
              "      async function convertToInteractive(key) {\n",
              "        const element = document.querySelector('#df-a013320f-b63b-44cd-a723-312b334bdef4');\n",
              "        const dataTable =\n",
              "          await google.colab.kernel.invokeFunction('convertToInteractive',\n",
              "                                                    [key], {});\n",
              "        if (!dataTable) return;\n",
              "\n",
              "        const docLinkHtml = 'Like what you see? Visit the ' +\n",
              "          '<a target=\"_blank\" href=https://colab.research.google.com/notebooks/data_table.ipynb>data table notebook</a>'\n",
              "          + ' to learn more about interactive tables.';\n",
              "        element.innerHTML = '';\n",
              "        dataTable['output_type'] = 'display_data';\n",
              "        await google.colab.output.renderOutput(dataTable, element);\n",
              "        const docLink = document.createElement('div');\n",
              "        docLink.innerHTML = docLinkHtml;\n",
              "        element.appendChild(docLink);\n",
              "      }\n",
              "    </script>\n",
              "  </div>\n",
              "\n",
              "\n",
              "<div id=\"df-12a060ea-4898-4063-96de-beca7f5e52d6\">\n",
              "  <button class=\"colab-df-quickchart\" onclick=\"quickchart('df-12a060ea-4898-4063-96de-beca7f5e52d6')\"\n",
              "            title=\"Suggest charts\"\n",
              "            style=\"display:none;\">\n",
              "\n",
              "<svg xmlns=\"http://www.w3.org/2000/svg\" height=\"24px\"viewBox=\"0 0 24 24\"\n",
              "     width=\"24px\">\n",
              "    <g>\n",
              "        <path d=\"M19 3H5c-1.1 0-2 .9-2 2v14c0 1.1.9 2 2 2h14c1.1 0 2-.9 2-2V5c0-1.1-.9-2-2-2zM9 17H7v-7h2v7zm4 0h-2V7h2v10zm4 0h-2v-4h2v4z\"/>\n",
              "    </g>\n",
              "</svg>\n",
              "  </button>\n",
              "\n",
              "<style>\n",
              "  .colab-df-quickchart {\n",
              "      --bg-color: #E8F0FE;\n",
              "      --fill-color: #1967D2;\n",
              "      --hover-bg-color: #E2EBFA;\n",
              "      --hover-fill-color: #174EA6;\n",
              "      --disabled-fill-color: #AAA;\n",
              "      --disabled-bg-color: #DDD;\n",
              "  }\n",
              "\n",
              "  [theme=dark] .colab-df-quickchart {\n",
              "      --bg-color: #3B4455;\n",
              "      --fill-color: #D2E3FC;\n",
              "      --hover-bg-color: #434B5C;\n",
              "      --hover-fill-color: #FFFFFF;\n",
              "      --disabled-bg-color: #3B4455;\n",
              "      --disabled-fill-color: #666;\n",
              "  }\n",
              "\n",
              "  .colab-df-quickchart {\n",
              "    background-color: var(--bg-color);\n",
              "    border: none;\n",
              "    border-radius: 50%;\n",
              "    cursor: pointer;\n",
              "    display: none;\n",
              "    fill: var(--fill-color);\n",
              "    height: 32px;\n",
              "    padding: 0;\n",
              "    width: 32px;\n",
              "  }\n",
              "\n",
              "  .colab-df-quickchart:hover {\n",
              "    background-color: var(--hover-bg-color);\n",
              "    box-shadow: 0 1px 2px rgba(60, 64, 67, 0.3), 0 1px 3px 1px rgba(60, 64, 67, 0.15);\n",
              "    fill: var(--button-hover-fill-color);\n",
              "  }\n",
              "\n",
              "  .colab-df-quickchart-complete:disabled,\n",
              "  .colab-df-quickchart-complete:disabled:hover {\n",
              "    background-color: var(--disabled-bg-color);\n",
              "    fill: var(--disabled-fill-color);\n",
              "    box-shadow: none;\n",
              "  }\n",
              "\n",
              "  .colab-df-spinner {\n",
              "    border: 2px solid var(--fill-color);\n",
              "    border-color: transparent;\n",
              "    border-bottom-color: var(--fill-color);\n",
              "    animation:\n",
              "      spin 1s steps(1) infinite;\n",
              "  }\n",
              "\n",
              "  @keyframes spin {\n",
              "    0% {\n",
              "      border-color: transparent;\n",
              "      border-bottom-color: var(--fill-color);\n",
              "      border-left-color: var(--fill-color);\n",
              "    }\n",
              "    20% {\n",
              "      border-color: transparent;\n",
              "      border-left-color: var(--fill-color);\n",
              "      border-top-color: var(--fill-color);\n",
              "    }\n",
              "    30% {\n",
              "      border-color: transparent;\n",
              "      border-left-color: var(--fill-color);\n",
              "      border-top-color: var(--fill-color);\n",
              "      border-right-color: var(--fill-color);\n",
              "    }\n",
              "    40% {\n",
              "      border-color: transparent;\n",
              "      border-right-color: var(--fill-color);\n",
              "      border-top-color: var(--fill-color);\n",
              "    }\n",
              "    60% {\n",
              "      border-color: transparent;\n",
              "      border-right-color: var(--fill-color);\n",
              "    }\n",
              "    80% {\n",
              "      border-color: transparent;\n",
              "      border-right-color: var(--fill-color);\n",
              "      border-bottom-color: var(--fill-color);\n",
              "    }\n",
              "    90% {\n",
              "      border-color: transparent;\n",
              "      border-bottom-color: var(--fill-color);\n",
              "    }\n",
              "  }\n",
              "</style>\n",
              "\n",
              "  <script>\n",
              "    async function quickchart(key) {\n",
              "      const quickchartButtonEl =\n",
              "        document.querySelector('#' + key + ' button');\n",
              "      quickchartButtonEl.disabled = true;  // To prevent multiple clicks.\n",
              "      quickchartButtonEl.classList.add('colab-df-spinner');\n",
              "      try {\n",
              "        const charts = await google.colab.kernel.invokeFunction(\n",
              "            'suggestCharts', [key], {});\n",
              "      } catch (error) {\n",
              "        console.error('Error during call to suggestCharts:', error);\n",
              "      }\n",
              "      quickchartButtonEl.classList.remove('colab-df-spinner');\n",
              "      quickchartButtonEl.classList.add('colab-df-quickchart-complete');\n",
              "    }\n",
              "    (() => {\n",
              "      let quickchartButtonEl =\n",
              "        document.querySelector('#df-12a060ea-4898-4063-96de-beca7f5e52d6 button');\n",
              "      quickchartButtonEl.style.display =\n",
              "        google.colab.kernel.accessAllowed ? 'block' : 'none';\n",
              "    })();\n",
              "  </script>\n",
              "</div>\n",
              "\n",
              "    </div>\n",
              "  </div>\n"
            ],
            "application/vnd.google.colaboratory.intrinsic+json": {
              "type": "dataframe",
              "variable_name": "df"
            }
          },
          "metadata": {},
          "execution_count": 63
        }
      ],
      "source": [
        "df.head()"
      ]
    },
    {
      "cell_type": "code",
      "execution_count": 64,
      "metadata": {
        "colab": {
          "base_uri": "https://localhost:8080/"
        },
        "id": "lySYk8VUGOWv",
        "outputId": "6c27de22-1c87-4edf-ed0c-b0413ccde9c2",
        "collapsed": true
      },
      "outputs": [
        {
          "output_type": "stream",
          "name": "stdout",
          "text": [
            "    Año                Fecha prov_persona_en_situacion_violencia  \\\n",
            "0  2023  2023-01-01 00:00:00                        Buenos Aires   \n",
            "1  2023  2023-01-01 00:00:00                        Buenos Aires   \n",
            "2  2023  2023-01-01 00:00:00                        Buenos Aires   \n",
            "3  2023  2023-01-01 00:00:00                          Entre Ríos   \n",
            "4  2023  2023-01-01 00:00:00                             Mendoza   \n",
            "\n",
            "  genero_persona_en_situacion_de_violencia  \\\n",
            "0                                    Mujer   \n",
            "1                                    Mujer   \n",
            "2                                    Mujer   \n",
            "3                                    Mujer   \n",
            "4                                    Mujer   \n",
            "\n",
            "   edad_persona_en_situacion_de_violencia  \\\n",
            "0                                     NaN   \n",
            "1                                    19.0   \n",
            "2                                    46.0   \n",
            "3                                    28.0   \n",
            "4                                    34.0   \n",
            "\n",
            "  pais_nacimiento_persona_en_situacion_de_violencia tipo_de_violencia_fisica  \\\n",
            "0                                               NaN                       Si   \n",
            "1                                         Argentina                       Si   \n",
            "2                                         Argentina                       Si   \n",
            "3                                               NaN                       No   \n",
            "4                                         Argentina                       No   \n",
            "\n",
            "  tipo_de_violencia_psicologica tipo_de_violencia_sexual  \\\n",
            "0                            Si                       No   \n",
            "1                            Si                       Si   \n",
            "2                            Si                       No   \n",
            "3                            Si                       No   \n",
            "4                            Si                       No   \n",
            "\n",
            "  tipo_de_violencia_economica_y_patrimonial  ... tipo_de_violencia_domestica  \\\n",
            "0                                        No  ...                          Si   \n",
            "1                                        No  ...                          No   \n",
            "2                                        No  ...                          Si   \n",
            "3                                        No  ...                          Si   \n",
            "4                                        No  ...                          Si   \n",
            "\n",
            "  modalidad_de_violencia_institucional modalidad_de_violencia_laboral  \\\n",
            "0                                   No                             No   \n",
            "1                                   No                             No   \n",
            "2                                   No                             No   \n",
            "3                                   No                             No   \n",
            "4                                   No                             No   \n",
            "\n",
            "  modalidad_violencia_contra_libertad_reproductiva  \\\n",
            "0                                               No   \n",
            "1                                               No   \n",
            "2                                               No   \n",
            "3                                               No   \n",
            "4                                               No   \n",
            "\n",
            "  modalidad_de_violencia_obstetrica modalidad_de_violencia_mediatica  \\\n",
            "0                                No                               No   \n",
            "1                                No                               No   \n",
            "2                                No                               No   \n",
            "3                                No                               No   \n",
            "4                                No                               No   \n",
            "\n",
            "  modalidad_de_violencia_otras vinculo_con_la_persona_agresora  \\\n",
            "0                           No                          Pareja   \n",
            "1                           No                            Otro   \n",
            "2                           No                          Pareja   \n",
            "3                           No                          Pareja   \n",
            "4                           No                       Ex pareja   \n",
            "\n",
            "  genero_de_la_persona_agresora poblacion_provincia  \n",
            "0                         Varon            17569053  \n",
            "1                         Varon            17569053  \n",
            "2                         Varon            17569053  \n",
            "3                         Varon             1426426  \n",
            "4                         Varon             2014533  \n",
            "\n",
            "[5 rows x 21 columns]\n"
          ]
        }
      ],
      "source": [
        "print(df.head())"
      ]
    },
    {
      "cell_type": "code",
      "execution_count": 65,
      "metadata": {
        "colab": {
          "base_uri": "https://localhost:8080/"
        },
        "id": "CyTo4hEBGi9Q",
        "outputId": "b4a65213-3ef2-4528-c3e2-ea5913d04344",
        "collapsed": true
      },
      "outputs": [
        {
          "output_type": "execute_result",
          "data": {
            "text/plain": [
              "Index(['Año', 'Fecha', 'prov_persona_en_situacion_violencia',\n",
              "       'genero_persona_en_situacion_de_violencia',\n",
              "       'edad_persona_en_situacion_de_violencia',\n",
              "       'pais_nacimiento_persona_en_situacion_de_violencia',\n",
              "       'tipo_de_violencia_fisica', 'tipo_de_violencia_psicologica',\n",
              "       'tipo_de_violencia_sexual', 'tipo_de_violencia_economica_y_patrimonial',\n",
              "       'tipo_de_violencia_simbolica', 'tipo_de_violencia_domestica',\n",
              "       'modalidad_de_violencia_institucional',\n",
              "       'modalidad_de_violencia_laboral',\n",
              "       'modalidad_violencia_contra_libertad_reproductiva',\n",
              "       'modalidad_de_violencia_obstetrica', 'modalidad_de_violencia_mediatica',\n",
              "       'modalidad_de_violencia_otras', 'vinculo_con_la_persona_agresora',\n",
              "       'genero_de_la_persona_agresora', 'poblacion_provincia'],\n",
              "      dtype='object')"
            ]
          },
          "metadata": {},
          "execution_count": 65
        }
      ],
      "source": [
        "df.columns"
      ]
    },
    {
      "cell_type": "markdown",
      "metadata": {
        "id": "-uPZfcT2hagU"
      },
      "source": [
        "## **Diccionario de datos \"Variables\"**"
      ]
    },
    {
      "cell_type": "markdown",
      "metadata": {
        "id": "Xpd6DTLZho9s"
      },
      "source": [
        "### **Cambio de Nombre es Variables**"
      ]
    },
    {
      "cell_type": "code",
      "execution_count": 73,
      "metadata": {
        "id": "7KRtUbR6hopL"
      },
      "outputs": [],
      "source": [
        "df.rename(columns={'prov_persona_en_situacion_violencia': 'PRVPESV'}, inplace=True)\n",
        "df.rename(columns={'genero_persona_en_situacion_de_violencia': 'GENPERESDV'}, inplace=True)\n",
        "df.rename(columns={'edad_persona_en_situacion_de_violencia': 'EDADPESDV'}, inplace=True)\n",
        "df.rename(columns={'pais_nacimiento_persona_en_situacion_de_violencia': 'PAISNACPESDV'}, inplace=True)\n",
        "df.rename(columns={'tipo_de_violencia_fisica': 'TDVIOFIS'}, inplace=True)\n",
        "df.rename(columns={'tipo_de_violencia_psicologica': 'TDVIOPSI'}, inplace=True)\n",
        "df.rename(columns={'tipo_de_violencia_sexual': 'TDVIOSEX'}, inplace=True)\n",
        "df.rename(columns={'tipo_de_violencia_economica_y_patrimonial': 'TDVIOECOYPATR'}, inplace=True)\n",
        "df.rename(columns={'tipo_de_violencia_simbolica': 'TDVIOSIMB'}, inplace=True)\n",
        "df.rename(columns={'tipo_de_violencia_domestica': 'TDVIODOM'}, inplace=True)\n",
        "df.rename(columns={'modalidad_de_violencia_institucional': 'MDVIOINST'}, inplace=True)\n",
        "df.rename(columns={'modalidad_de_violencia_laboral': 'MDVIOLABO'}, inplace=True)\n",
        "df.rename(columns={'modalidad_violencia_contra_libertad_reproductiva': 'MVIOCLIBREP'}, inplace=True)\n",
        "df.rename(columns={'modalidad_de_violencia_obstetrica': 'MDVIOOBST'}, inplace=True)\n",
        "df.rename(columns={'modalidad_de_violencia_mediatica': 'MDVIOMEDIA'}, inplace=True)\n",
        "df.rename(columns={'modalidad_de_violencia_otras': 'MDVIOOTR'}, inplace=True)\n",
        "df.rename(columns={'vinculo_con_la_persona_agresora': 'VCLPERAGRE'}, inplace=True)\n",
        "df.rename(columns={'genero_de_la_persona_agresora': 'GDLPERAGRE'}, inplace=True)\n",
        "df.rename(columns={'poblacion_provincia': 'POBLPROV'}, inplace=True)\n"
      ]
    },
    {
      "cell_type": "code",
      "execution_count": 74,
      "metadata": {
        "colab": {
          "base_uri": "https://localhost:8080/"
        },
        "collapsed": true,
        "id": "K-AuVeQrjk6D",
        "outputId": "deb6453a-095b-4e2d-c2ca-e440dfb27ba3"
      },
      "outputs": [
        {
          "output_type": "stream",
          "name": "stdout",
          "text": [
            "        Año                Fecha       PRVPESV GENPERESDV  EDADPESDV  \\\n",
            "0      2023  2023-01-01 00:00:00  Buenos Aires      Mujer        NaN   \n",
            "1      2023  2023-01-01 00:00:00  Buenos Aires      Mujer       19.0   \n",
            "2      2023  2023-01-01 00:00:00  Buenos Aires      Mujer       46.0   \n",
            "3      2023  2023-01-01 00:00:00    Entre Ríos      Mujer       28.0   \n",
            "4      2023  2023-01-01 00:00:00       Mendoza      Mujer       34.0   \n",
            "...     ...                  ...           ...        ...        ...   \n",
            "89535  2020           12/31/2020  Buenos Aires      Mujer       30.0   \n",
            "89536  2020           12/31/2020  Buenos Aires      Mujer       40.0   \n",
            "89537  2020           12/31/2020  Buenos Aires      Mujer       22.0   \n",
            "89538  2020           12/31/2020  Buenos Aires      Mujer       44.0   \n",
            "89539  2020           12/31/2020  Buenos Aires      Mujer       21.0   \n",
            "\n",
            "      PAISNACPESDV TDVIOFIS TDVIOPSI TDVIOSEX TDVIOECOYPATR  ... TDVIODOM  \\\n",
            "0              NaN       Si       Si       No            No  ...       Si   \n",
            "1        Argentina       Si       Si       Si            No  ...       No   \n",
            "2        Argentina       Si       Si       No            No  ...       Si   \n",
            "3              NaN       No       Si       No            No  ...       Si   \n",
            "4        Argentina       No       Si       No            No  ...       Si   \n",
            "...            ...      ...      ...      ...           ...  ...      ...   \n",
            "89535          NaN       Si       Si       No            No  ...       Si   \n",
            "89536          NaN       Si       Si       No            No  ...       Si   \n",
            "89537          NaN       Si       Si       No            No  ...       Si   \n",
            "89538    Argentina       Si       Si       No            No  ...       Si   \n",
            "89539          NaN       Si       Si       No            No  ...       Si   \n",
            "\n",
            "      MDVIOINST MDVIOLABO MVIOCLIBREP MDVIOOBST MDVIOMEDIA MDVIOOTR  \\\n",
            "0            No        No          No        No         No       No   \n",
            "1            No        No          No        No         No       No   \n",
            "2            No        No          No        No         No       No   \n",
            "3            No        No          No        No         No       No   \n",
            "4            No        No          No        No         No       No   \n",
            "...         ...       ...         ...       ...        ...      ...   \n",
            "89535        No        No          No        No         No       No   \n",
            "89536        No        No          No        No         No       No   \n",
            "89537        No        No          No        No         No       No   \n",
            "89538        No        No          No        No         No       No   \n",
            "89539        No        No          No        No         No       No   \n",
            "\n",
            "          VCLPERAGRE GDLPERAGRE  POBLPROV  \n",
            "0             Pareja      Varon  17569053  \n",
            "1               Otro      Varon  17569053  \n",
            "2             Pareja      Varon  17569053  \n",
            "3             Pareja      Varon   1426426  \n",
            "4          Ex pareja      Varon   2014533  \n",
            "...              ...        ...       ...  \n",
            "89535         Pareja      Varon  17569053  \n",
            "89536  Otro familiar       Otro  17569053  \n",
            "89537      Ex pareja      Varon  17569053  \n",
            "89538      Ex pareja      Varon  17569053  \n",
            "89539         Pareja      Varon  17569053  \n",
            "\n",
            "[89540 rows x 21 columns]\n"
          ]
        }
      ],
      "source": [
        "print(df)"
      ]
    },
    {
      "cell_type": "markdown",
      "source": [
        "## **UNIFICACION DE VALORES IGUALES**"
      ],
      "metadata": {
        "id": "GVd2_c8PwbTO"
      }
    },
    {
      "cell_type": "code",
      "source": [
        "import pandas as pd\n",
        "df['GENPERESDV'] = df['GENPERESDV'].replace({'Varón Trans':'Varon Trans'})\n"
      ],
      "metadata": {
        "id": "IyiwOe9twugW"
      },
      "execution_count": 75,
      "outputs": []
    },
    {
      "cell_type": "code",
      "source": [
        "df['GENPERESDV'].value_counts()"
      ],
      "metadata": {
        "colab": {
          "base_uri": "https://localhost:8080/"
        },
        "id": "7oBB-uulxoW0",
        "outputId": "b16b2609-4985-4218-c519-8a65949223eb"
      },
      "execution_count": 76,
      "outputs": [
        {
          "output_type": "execute_result",
          "data": {
            "text/plain": [
              "GENPERESDV\n",
              "Mujer          86883\n",
              "Varon            349\n",
              "Transgenero      151\n",
              "Mujer Trans      141\n",
              "Otro              67\n",
              "Varon Trans       25\n",
              "Travesti          11\n",
              "Intersexual        4\n",
              "No Binarie         3\n",
              "Varon trans        1\n",
              "Queer              1\n",
              "Name: count, dtype: int64"
            ]
          },
          "metadata": {},
          "execution_count": 76
        }
      ]
    },
    {
      "cell_type": "markdown",
      "metadata": {
        "id": "gCuKJfJYmfBE"
      },
      "source": [
        "## **Incognitas en base al Dataset Presentado**"
      ]
    },
    {
      "cell_type": "markdown",
      "source": [
        "En base al DataSet presentado, analizando todas las columnas posibles, desarrollamos en principio 3 Incognitas a responder sobre los puntos claves para desarollar soluciones a estas llamadas.\n",
        "\n",
        "Los puntos de relacion que podemos definir de Macro a Micro es detectar la distribucion geografica de las llamadas. cual es el genero que mas sufre violencia y cual es la relacion que tienen con el agresor.\n",
        "\n",
        "No son las unicas preguntas a responder, pero si son, en principio, el camino a poder detectar o predecir con anticipacion casos de violencia."
      ],
      "metadata": {
        "id": "f1Ebigw-RI2D"
      }
    },
    {
      "cell_type": "markdown",
      "metadata": {
        "id": "KRnsMgOFmx8a"
      },
      "source": [
        "**1 ¿Cuál es la distribución geográfica de los casos de violencia reportados?**\n",
        "\n",
        "**2 ¿Cuál es la distribución por género de las víctimas?**\n",
        "\n",
        "**3 ¿Cuál es la relación más común entre la víctima y el agresor?**\n"
      ]
    },
    {
      "cell_type": "markdown",
      "metadata": {
        "id": "93Ym1c2Pnwp_"
      },
      "source": [
        "## **1 ¿Cuál es la distribución geográfica de los casos de violencia reportados?**"
      ]
    },
    {
      "cell_type": "code",
      "execution_count": 77,
      "metadata": {
        "id": "xxhHU9iQn2Bk"
      },
      "outputs": [],
      "source": [
        "import matplotlib.pyplot as plt\n",
        "import seaborn as sns\n",
        "provincia_counts = df['PRVPESV'].value_counts()\n"
      ]
    },
    {
      "cell_type": "code",
      "execution_count": 78,
      "metadata": {
        "colab": {
          "base_uri": "https://localhost:8080/",
          "height": 1000
        },
        "id": "dsXw0Zygn_Ln",
        "outputId": "8ba6f2c4-9829-4184-e143-d5daad21c334",
        "collapsed": true
      },
      "outputs": [
        {
          "output_type": "stream",
          "name": "stderr",
          "text": [
            "<ipython-input-78-3c70d157b0d9>:2: FutureWarning: \n",
            "\n",
            "Passing `palette` without assigning `hue` is deprecated and will be removed in v0.14.0. Assign the `x` variable to `hue` and set `legend=False` for the same effect.\n",
            "\n",
            "  sns.barplot(x=provincia_counts.index, y=provincia_counts.values, palette='viridis')\n"
          ]
        },
        {
          "output_type": "display_data",
          "data": {
            "text/plain": [
              "<Figure size 1200x600 with 1 Axes>"
            ],
            "image/png": "[encoded data removed]"
          },
          "metadata": {}
        }
      ],
      "source": [
        "plt.figure(figsize=(12, 6))\n",
        "sns.barplot(x=provincia_counts.index, y=provincia_counts.values, palette='viridis')\n",
        "plt.xticks(rotation=90)\n",
        "plt.xlabel('Provincia')\n",
        "plt.ylabel('Número de Casos')\n",
        "plt.title('Distribución Geográfica de los Casos de Violencia Reportados')\n",
        "plt.show()"
      ]
    },
    {
      "cell_type": "markdown",
      "source": [
        "En este caso, este grafico nos responde a que provincia es la que mas reporta llamadas por violencia, es clave entender que entre Gran Buenos Aires y La ciudad autonoma de Buenos aires tenemos gran parte de los Casos.\n",
        "\n",
        "Excluyendo a estas provincias, entendemos que Santa fe, Tucuman, Mendoza y Cordoba son tambien las mas afectadas.\n",
        "\n",
        "\n",
        "\n"
      ],
      "metadata": {
        "id": "asngAFaRc3Ek"
      }
    },
    {
      "cell_type": "markdown",
      "metadata": {
        "id": "tQUsIdvJoPAJ"
      },
      "source": [
        "\n",
        "\n",
        "## **2 ¿Cuál es la distribución por género de las víctimas?**"
      ]
    },
    {
      "cell_type": "code",
      "source": [
        "import matplotlib.pyplot as plt\n",
        "import seaborn as sns\n",
        "\n",
        "genero_counts = df['GENPERESDV'].value_counts().reset_index()\n",
        "genero_counts.columns = ['Género', 'Número de Casos']\n",
        "\n",
        "plt.figure(figsize=(20, 12))\n",
        "sns.barplot(x='Género', y='Número de Casos', data=genero_counts, palette='viridis')\n",
        "\n",
        "plt.xlabel('Género', fontsize=14)\n",
        "plt.ylabel('Número de Casos', fontsize=14)\n",
        "plt.title('Distribución por Género de las Víctimas', fontsize=16)\n",
        "plt.show()"
      ],
      "metadata": {
        "colab": {
          "base_uri": "https://localhost:8080/",
          "height": 141
        },
        "id": "ndHBoYunv0tg",
        "outputId": "051d7b59-865e-4753-96c3-ef2539ce7170"
      },
      "execution_count": 79,
      "outputs": [
        {
          "output_type": "stream",
          "name": "stderr",
          "text": [
            "<ipython-input-79-d62ef0449e01>:8: FutureWarning: \n",
            "\n",
            "Passing `palette` without assigning `hue` is deprecated and will be removed in v0.14.0. Assign the `x` variable to `hue` and set `legend=False` for the same effect.\n",
            "\n",
            "  sns.barplot(x='Género', y='Número de Casos', data=genero_counts, palette='viridis')\n"
          ]
        },
        {
          "output_type": "display_data",
          "data": {
            "text/plain": [
              "<Figure size 2000x1200 with 1 Axes>"
            ],
            "image/png": "[encoded data removed]"
          },
          "metadata": {}
        }
      ]
    },
    {
      "cell_type": "markdown",
      "source": [
        "Este grafico nos demuestra Claramente quienes son las victimas mas afectadas, validando esto, entendemos que las mujeres son quienes mas se ven afectadas y por excesiva superioridad, quienes mas tratan de conseguir ayuda."
      ],
      "metadata": {
        "id": "iEMtAKOFeA5S"
      }
    },
    {
      "cell_type": "markdown",
      "metadata": {
        "id": "PSNpO5MSrap2"
      },
      "source": [
        "## **3 ¿Cuál es la relación más común entre la víctima y el agresor?**"
      ]
    },
    {
      "cell_type": "code",
      "execution_count": 80,
      "metadata": {
        "colab": {
          "base_uri": "https://localhost:8080/",
          "height": 54
        },
        "id": "dRoTAW9crwk2",
        "outputId": "c93b228e-30c8-4ba1-cc45-961d455eb6cf"
      },
      "outputs": [
        {
          "output_type": "display_data",
          "data": {
            "text/plain": [
              "<Figure size 800x800 with 2 Axes>"
            ],
            "image/png": "[encoded data removed]"
          },
          "metadata": {}
        }
      ],
      "source": [
        "import matplotlib.pyplot as plt\n",
        "import seaborn as sns\n",
        "import pandas as pd\n",
        "\n",
        "relacion_counts = df['VCLPERAGRE'].value_counts().reset_index()\n",
        "relacion_counts.columns = ['Relación', 'Número de Casos']\n",
        "\n",
        "plt.figure(figsize=(8, 8))\n",
        "\n",
        "relacion_matrix = relacion_counts.set_index('Relación').T\n",
        "\n",
        "sns.heatmap(relacion_matrix, annot=True, fmt='d', cmap='viridis', linewidths=0.5, linecolor='black',)\n",
        "\n",
        "plt.title('Relación Más Común entre la Víctima y el Agresor', fontsize=16)\n",
        "plt.xlabel('')\n",
        "plt.ylabel('')\n",
        "plt.show()\n",
        "\n"
      ]
    },
    {
      "cell_type": "markdown",
      "source": [
        "Este Ultimo grafico nos demuestra cual es la relacion mas comun entre el agresor y la victima, lo cual tambien nos demuestra que aunque el vinculo amoroso este roto, las victimas aun estan en peligro o no pueden escapar de la violencia que aplicaba la pareja previamente.\n",
        "\n"
      ],
      "metadata": {
        "id": "W1xQ8jvteorl"
      }
    },
    {
      "cell_type": "markdown",
      "source": [
        "## **Identificamos Valores Perdidos en nuestro DataSet**"
      ],
      "metadata": {
        "id": "mGiHSZkA0Az0"
      }
    },
    {
      "cell_type": "code",
      "source": [
        "df.head()"
      ],
      "metadata": {
        "colab": {
          "base_uri": "https://localhost:8080/",
          "height": 342
        },
        "collapsed": true,
        "id": "Cf4RmCmS0IuE",
        "outputId": "18049a99-84ee-41f7-d611-4b370f311964"
      },
      "execution_count": 81,
      "outputs": [
        {
          "output_type": "execute_result",
          "data": {
            "text/plain": [
              "    Año                Fecha       PRVPESV GENPERESDV  EDADPESDV PAISNACPESDV  \\\n",
              "0  2023  2023-01-01 00:00:00  Buenos Aires      Mujer        NaN          NaN   \n",
              "1  2023  2023-01-01 00:00:00  Buenos Aires      Mujer       19.0    Argentina   \n",
              "2  2023  2023-01-01 00:00:00  Buenos Aires      Mujer       46.0    Argentina   \n",
              "3  2023  2023-01-01 00:00:00    Entre Ríos      Mujer       28.0          NaN   \n",
              "4  2023  2023-01-01 00:00:00       Mendoza      Mujer       34.0    Argentina   \n",
              "\n",
              "  TDVIOFIS TDVIOPSI TDVIOSEX TDVIOECOYPATR  ... TDVIODOM MDVIOINST MDVIOLABO  \\\n",
              "0       Si       Si       No            No  ...       Si        No        No   \n",
              "1       Si       Si       Si            No  ...       No        No        No   \n",
              "2       Si       Si       No            No  ...       Si        No        No   \n",
              "3       No       Si       No            No  ...       Si        No        No   \n",
              "4       No       Si       No            No  ...       Si        No        No   \n",
              "\n",
              "  MVIOCLIBREP MDVIOOBST MDVIOMEDIA MDVIOOTR VCLPERAGRE GDLPERAGRE  POBLPROV  \n",
              "0          No        No         No       No     Pareja      Varon  17569053  \n",
              "1          No        No         No       No       Otro      Varon  17569053  \n",
              "2          No        No         No       No     Pareja      Varon  17569053  \n",
              "3          No        No         No       No     Pareja      Varon   1426426  \n",
              "4          No        No         No       No  Ex pareja      Varon   2014533  \n",
              "\n",
              "[5 rows x 21 columns]"
            ],
            "text/html": [
              "\n",
              "  <div id=\"df-d0acb31c-f849-4a43-95e7-5216a06ab117\" class=\"colab-df-container\">\n",
              "    <div>\n",
              "<style scoped>\n",
              "    .dataframe tbody tr th:only-of-type {\n",
              "        vertical-align: middle;\n",
              "    }\n",
              "\n",
              "    .dataframe tbody tr th {\n",
              "        vertical-align: top;\n",
              "    }\n",
              "\n",
              "    .dataframe thead th {\n",
              "        text-align: right;\n",
              "    }\n",
              "</style>\n",
              "<table border=\"1\" class=\"dataframe\">\n",
              "  <thead>\n",
              "    <tr style=\"text-align: right;\">\n",
              "      <th></th>\n",
              "      <th>Año</th>\n",
              "      <th>Fecha</th>\n",
              "      <th>PRVPESV</th>\n",
              "      <th>GENPERESDV</th>\n",
              "      <th>EDADPESDV</th>\n",
              "      <th>PAISNACPESDV</th>\n",
              "      <th>TDVIOFIS</th>\n",
              "      <th>TDVIOPSI</th>\n",
              "      <th>TDVIOSEX</th>\n",
              "      <th>TDVIOECOYPATR</th>\n",
              "      <th>...</th>\n",
              "      <th>TDVIODOM</th>\n",
              "      <th>MDVIOINST</th>\n",
              "      <th>MDVIOLABO</th>\n",
              "      <th>MVIOCLIBREP</th>\n",
              "      <th>MDVIOOBST</th>\n",
              "      <th>MDVIOMEDIA</th>\n",
              "      <th>MDVIOOTR</th>\n",
              "      <th>VCLPERAGRE</th>\n",
              "      <th>GDLPERAGRE</th>\n",
              "      <th>POBLPROV</th>\n",
              "    </tr>\n",
              "  </thead>\n",
              "  <tbody>\n",
              "    <tr>\n",
              "      <th>0</th>\n",
              "      <td>2023</td>\n",
              "      <td>2023-01-01 00:00:00</td>\n",
              "      <td>Buenos Aires</td>\n",
              "      <td>Mujer</td>\n",
              "      <td>NaN</td>\n",
              "      <td>NaN</td>\n",
              "      <td>Si</td>\n",
              "      <td>Si</td>\n",
              "      <td>No</td>\n",
              "      <td>No</td>\n",
              "      <td>...</td>\n",
              "      <td>Si</td>\n",
              "      <td>No</td>\n",
              "      <td>No</td>\n",
              "      <td>No</td>\n",
              "      <td>No</td>\n",
              "      <td>No</td>\n",
              "      <td>No</td>\n",
              "      <td>Pareja</td>\n",
              "      <td>Varon</td>\n",
              "      <td>17569053</td>\n",
              "    </tr>\n",
              "    <tr>\n",
              "      <th>1</th>\n",
              "      <td>2023</td>\n",
              "      <td>2023-01-01 00:00:00</td>\n",
              "      <td>Buenos Aires</td>\n",
              "      <td>Mujer</td>\n",
              "      <td>19.0</td>\n",
              "      <td>Argentina</td>\n",
              "      <td>Si</td>\n",
              "      <td>Si</td>\n",
              "      <td>Si</td>\n",
              "      <td>No</td>\n",
              "      <td>...</td>\n",
              "      <td>No</td>\n",
              "      <td>No</td>\n",
              "      <td>No</td>\n",
              "      <td>No</td>\n",
              "      <td>No</td>\n",
              "      <td>No</td>\n",
              "      <td>No</td>\n",
              "      <td>Otro</td>\n",
              "      <td>Varon</td>\n",
              "      <td>17569053</td>\n",
              "    </tr>\n",
              "    <tr>\n",
              "      <th>2</th>\n",
              "      <td>2023</td>\n",
              "      <td>2023-01-01 00:00:00</td>\n",
              "      <td>Buenos Aires</td>\n",
              "      <td>Mujer</td>\n",
              "      <td>46.0</td>\n",
              "      <td>Argentina</td>\n",
              "      <td>Si</td>\n",
              "      <td>Si</td>\n",
              "      <td>No</td>\n",
              "      <td>No</td>\n",
              "      <td>...</td>\n",
              "      <td>Si</td>\n",
              "      <td>No</td>\n",
              "      <td>No</td>\n",
              "      <td>No</td>\n",
              "      <td>No</td>\n",
              "      <td>No</td>\n",
              "      <td>No</td>\n",
              "      <td>Pareja</td>\n",
              "      <td>Varon</td>\n",
              "      <td>17569053</td>\n",
              "    </tr>\n",
              "    <tr>\n",
              "      <th>3</th>\n",
              "      <td>2023</td>\n",
              "      <td>2023-01-01 00:00:00</td>\n",
              "      <td>Entre Ríos</td>\n",
              "      <td>Mujer</td>\n",
              "      <td>28.0</td>\n",
              "      <td>NaN</td>\n",
              "      <td>No</td>\n",
              "      <td>Si</td>\n",
              "      <td>No</td>\n",
              "      <td>No</td>\n",
              "      <td>...</td>\n",
              "      <td>Si</td>\n",
              "      <td>No</td>\n",
              "      <td>No</td>\n",
              "      <td>No</td>\n",
              "      <td>No</td>\n",
              "      <td>No</td>\n",
              "      <td>No</td>\n",
              "      <td>Pareja</td>\n",
              "      <td>Varon</td>\n",
              "      <td>1426426</td>\n",
              "    </tr>\n",
              "    <tr>\n",
              "      <th>4</th>\n",
              "      <td>2023</td>\n",
              "      <td>2023-01-01 00:00:00</td>\n",
              "      <td>Mendoza</td>\n",
              "      <td>Mujer</td>\n",
              "      <td>34.0</td>\n",
              "      <td>Argentina</td>\n",
              "      <td>No</td>\n",
              "      <td>Si</td>\n",
              "      <td>No</td>\n",
              "      <td>No</td>\n",
              "      <td>...</td>\n",
              "      <td>Si</td>\n",
              "      <td>No</td>\n",
              "      <td>No</td>\n",
              "      <td>No</td>\n",
              "      <td>No</td>\n",
              "      <td>No</td>\n",
              "      <td>No</td>\n",
              "      <td>Ex pareja</td>\n",
              "      <td>Varon</td>\n",
              "      <td>2014533</td>\n",
              "    </tr>\n",
              "  </tbody>\n",
              "</table>\n",
              "<p>5 rows × 21 columns</p>\n",
              "</div>\n",
              "    <div class=\"colab-df-buttons\">\n",
              "\n",
              "  <div class=\"colab-df-container\">\n",
              "    <button class=\"colab-df-convert\" onclick=\"convertToInteractive('df-d0acb31c-f849-4a43-95e7-5216a06ab117')\"\n",
              "            title=\"Convert this dataframe to an interactive table.\"\n",
              "            style=\"display:none;\">\n",
              "\n",
              "  <svg xmlns=\"http://www.w3.org/2000/svg\" height=\"24px\" viewBox=\"0 -960 960 960\">\n",
              "    <path d=\"M120-120v-720h720v720H120Zm60-500h600v-160H180v160Zm220 220h160v-160H400v160Zm0 220h160v-160H400v160ZM180-400h160v-160H180v160Zm440 0h160v-160H620v160ZM180-180h160v-160H180v160Zm440 0h160v-160H620v160Z\"/>\n",
              "  </svg>\n",
              "    </button>\n",
              "\n",
              "  <style>\n",
              "    .colab-df-container {\n",
              "      display:flex;\n",
              "      gap: 12px;\n",
              "    }\n",
              "\n",
              "    .colab-df-convert {\n",
              "      background-color: #E8F0FE;\n",
              "      border: none;\n",
              "      border-radius: 50%;\n",
              "      cursor: pointer;\n",
              "      display: none;\n",
              "      fill: #1967D2;\n",
              "      height: 32px;\n",
              "      padding: 0 0 0 0;\n",
              "      width: 32px;\n",
              "    }\n",
              "\n",
              "    .colab-df-convert:hover {\n",
              "      background-color: #E2EBFA;\n",
              "      box-shadow: 0px 1px 2px rgba(60, 64, 67, 0.3), 0px 1px 3px 1px rgba(60, 64, 67, 0.15);\n",
              "      fill: #174EA6;\n",
              "    }\n",
              "\n",
              "    .colab-df-buttons div {\n",
              "      margin-bottom: 4px;\n",
              "    }\n",
              "\n",
              "    [theme=dark] .colab-df-convert {\n",
              "      background-color: #3B4455;\n",
              "      fill: #D2E3FC;\n",
              "    }\n",
              "\n",
              "    [theme=dark] .colab-df-convert:hover {\n",
              "      background-color: #434B5C;\n",
              "      box-shadow: 0px 1px 3px 1px rgba(0, 0, 0, 0.15);\n",
              "      filter: drop-shadow(0px 1px 2px rgba(0, 0, 0, 0.3));\n",
              "      fill: #FFFFFF;\n",
              "    }\n",
              "  </style>\n",
              "\n",
              "    <script>\n",
              "      const buttonEl =\n",
              "        document.querySelector('#df-d0acb31c-f849-4a43-95e7-5216a06ab117 button.colab-df-convert');\n",
              "      buttonEl.style.display =\n",
              "        google.colab.kernel.accessAllowed ? 'block' : 'none';\n",
              "\n",
              "      async function convertToInteractive(key) {\n",
              "        const element = document.querySelector('#df-d0acb31c-f849-4a43-95e7-5216a06ab117');\n",
              "        const dataTable =\n",
              "          await google.colab.kernel.invokeFunction('convertToInteractive',\n",
              "                                                    [key], {});\n",
              "        if (!dataTable) return;\n",
              "\n",
              "        const docLinkHtml = 'Like what you see? Visit the ' +\n",
              "          '<a target=\"_blank\" href=https://colab.research.google.com/notebooks/data_table.ipynb>data table notebook</a>'\n",
              "          + ' to learn more about interactive tables.';\n",
              "        element.innerHTML = '';\n",
              "        dataTable['output_type'] = 'display_data';\n",
              "        await google.colab.output.renderOutput(dataTable, element);\n",
              "        const docLink = document.createElement('div');\n",
              "        docLink.innerHTML = docLinkHtml;\n",
              "        element.appendChild(docLink);\n",
              "      }\n",
              "    </script>\n",
              "  </div>\n",
              "\n",
              "\n",
              "<div id=\"df-8d3784e2-c9ca-4f67-b553-699e6eba44e8\">\n",
              "  <button class=\"colab-df-quickchart\" onclick=\"quickchart('df-8d3784e2-c9ca-4f67-b553-699e6eba44e8')\"\n",
              "            title=\"Suggest charts\"\n",
              "            style=\"display:none;\">\n",
              "\n",
              "<svg xmlns=\"http://www.w3.org/2000/svg\" height=\"24px\"viewBox=\"0 0 24 24\"\n",
              "     width=\"24px\">\n",
              "    <g>\n",
              "        <path d=\"M19 3H5c-1.1 0-2 .9-2 2v14c0 1.1.9 2 2 2h14c1.1 0 2-.9 2-2V5c0-1.1-.9-2-2-2zM9 17H7v-7h2v7zm4 0h-2V7h2v10zm4 0h-2v-4h2v4z\"/>\n",
              "    </g>\n",
              "</svg>\n",
              "  </button>\n",
              "\n",
              "<style>\n",
              "  .colab-df-quickchart {\n",
              "      --bg-color: #E8F0FE;\n",
              "      --fill-color: #1967D2;\n",
              "      --hover-bg-color: #E2EBFA;\n",
              "      --hover-fill-color: #174EA6;\n",
              "      --disabled-fill-color: #AAA;\n",
              "      --disabled-bg-color: #DDD;\n",
              "  }\n",
              "\n",
              "  [theme=dark] .colab-df-quickchart {\n",
              "      --bg-color: #3B4455;\n",
              "      --fill-color: #D2E3FC;\n",
              "      --hover-bg-color: #434B5C;\n",
              "      --hover-fill-color: #FFFFFF;\n",
              "      --disabled-bg-color: #3B4455;\n",
              "      --disabled-fill-color: #666;\n",
              "  }\n",
              "\n",
              "  .colab-df-quickchart {\n",
              "    background-color: var(--bg-color);\n",
              "    border: none;\n",
              "    border-radius: 50%;\n",
              "    cursor: pointer;\n",
              "    display: none;\n",
              "    fill: var(--fill-color);\n",
              "    height: 32px;\n",
              "    padding: 0;\n",
              "    width: 32px;\n",
              "  }\n",
              "\n",
              "  .colab-df-quickchart:hover {\n",
              "    background-color: var(--hover-bg-color);\n",
              "    box-shadow: 0 1px 2px rgba(60, 64, 67, 0.3), 0 1px 3px 1px rgba(60, 64, 67, 0.15);\n",
              "    fill: var(--button-hover-fill-color);\n",
              "  }\n",
              "\n",
              "  .colab-df-quickchart-complete:disabled,\n",
              "  .colab-df-quickchart-complete:disabled:hover {\n",
              "    background-color: var(--disabled-bg-color);\n",
              "    fill: var(--disabled-fill-color);\n",
              "    box-shadow: none;\n",
              "  }\n",
              "\n",
              "  .colab-df-spinner {\n",
              "    border: 2px solid var(--fill-color);\n",
              "    border-color: transparent;\n",
              "    border-bottom-color: var(--fill-color);\n",
              "    animation:\n",
              "      spin 1s steps(1) infinite;\n",
              "  }\n",
              "\n",
              "  @keyframes spin {\n",
              "    0% {\n",
              "      border-color: transparent;\n",
              "      border-bottom-color: var(--fill-color);\n",
              "      border-left-color: var(--fill-color);\n",
              "    }\n",
              "    20% {\n",
              "      border-color: transparent;\n",
              "      border-left-color: var(--fill-color);\n",
              "      border-top-color: var(--fill-color);\n",
              "    }\n",
              "    30% {\n",
              "      border-color: transparent;\n",
              "      border-left-color: var(--fill-color);\n",
              "      border-top-color: var(--fill-color);\n",
              "      border-right-color: var(--fill-color);\n",
              "    }\n",
              "    40% {\n",
              "      border-color: transparent;\n",
              "      border-right-color: var(--fill-color);\n",
              "      border-top-color: var(--fill-color);\n",
              "    }\n",
              "    60% {\n",
              "      border-color: transparent;\n",
              "      border-right-color: var(--fill-color);\n",
              "    }\n",
              "    80% {\n",
              "      border-color: transparent;\n",
              "      border-right-color: var(--fill-color);\n",
              "      border-bottom-color: var(--fill-color);\n",
              "    }\n",
              "    90% {\n",
              "      border-color: transparent;\n",
              "      border-bottom-color: var(--fill-color);\n",
              "    }\n",
              "  }\n",
              "</style>\n",
              "\n",
              "  <script>\n",
              "    async function quickchart(key) {\n",
              "      const quickchartButtonEl =\n",
              "        document.querySelector('#' + key + ' button');\n",
              "      quickchartButtonEl.disabled = true;  // To prevent multiple clicks.\n",
              "      quickchartButtonEl.classList.add('colab-df-spinner');\n",
              "      try {\n",
              "        const charts = await google.colab.kernel.invokeFunction(\n",
              "            'suggestCharts', [key], {});\n",
              "      } catch (error) {\n",
              "        console.error('Error during call to suggestCharts:', error);\n",
              "      }\n",
              "      quickchartButtonEl.classList.remove('colab-df-spinner');\n",
              "      quickchartButtonEl.classList.add('colab-df-quickchart-complete');\n",
              "    }\n",
              "    (() => {\n",
              "      let quickchartButtonEl =\n",
              "        document.querySelector('#df-8d3784e2-c9ca-4f67-b553-699e6eba44e8 button');\n",
              "      quickchartButtonEl.style.display =\n",
              "        google.colab.kernel.accessAllowed ? 'block' : 'none';\n",
              "    })();\n",
              "  </script>\n",
              "</div>\n",
              "\n",
              "    </div>\n",
              "  </div>\n"
            ],
            "application/vnd.google.colaboratory.intrinsic+json": {
              "type": "dataframe",
              "variable_name": "df"
            }
          },
          "metadata": {},
          "execution_count": 81
        }
      ]
    },
    {
      "cell_type": "code",
      "source": [
        "df.info()"
      ],
      "metadata": {
        "colab": {
          "base_uri": "https://localhost:8080/"
        },
        "collapsed": true,
        "id": "tlusG9uU0LWN",
        "outputId": "916825e9-41ee-4da3-de0d-1610d453e53f"
      },
      "execution_count": 82,
      "outputs": [
        {
          "output_type": "stream",
          "name": "stdout",
          "text": [
            "<class 'pandas.core.frame.DataFrame'>\n",
            "RangeIndex: 89540 entries, 0 to 89539\n",
            "Data columns (total 21 columns):\n",
            " #   Column         Non-Null Count  Dtype  \n",
            "---  ------         --------------  -----  \n",
            " 0   Año            89540 non-null  int64  \n",
            " 1   Fecha          89540 non-null  object \n",
            " 2   PRVPESV        89540 non-null  object \n",
            " 3   GENPERESDV     87636 non-null  object \n",
            " 4   EDADPESDV      72262 non-null  float64\n",
            " 5   PAISNACPESDV   59259 non-null  object \n",
            " 6   TDVIOFIS       89540 non-null  object \n",
            " 7   TDVIOPSI       89540 non-null  object \n",
            " 8   TDVIOSEX       89540 non-null  object \n",
            " 9   TDVIOECOYPATR  89540 non-null  object \n",
            " 10  TDVIOSIMB      89540 non-null  object \n",
            " 11  TDVIODOM       89540 non-null  object \n",
            " 12  MDVIOINST      89540 non-null  object \n",
            " 13  MDVIOLABO      89540 non-null  object \n",
            " 14  MVIOCLIBREP    89540 non-null  object \n",
            " 15  MDVIOOBST      89540 non-null  object \n",
            " 16  MDVIOMEDIA     89540 non-null  object \n",
            " 17  MDVIOOTR       89540 non-null  object \n",
            " 18  VCLPERAGRE     86145 non-null  object \n",
            " 19  GDLPERAGRE     80327 non-null  object \n",
            " 20  POBLPROV       88228 non-null  object \n",
            "dtypes: float64(1), int64(1), object(19)\n",
            "memory usage: 14.3+ MB\n"
          ]
        }
      ]
    },
    {
      "cell_type": "code",
      "source": [
        "missing_values_count = df.isnull().sum()\n",
        "print(missing_values_count)"
      ],
      "metadata": {
        "colab": {
          "base_uri": "https://localhost:8080/"
        },
        "collapsed": true,
        "id": "ARsa3bKm0PEG",
        "outputId": "638347c7-6e0a-444e-c1df-e6543a9c2aa6"
      },
      "execution_count": 83,
      "outputs": [
        {
          "output_type": "stream",
          "name": "stdout",
          "text": [
            "Año                  0\n",
            "Fecha                0\n",
            "PRVPESV              0\n",
            "GENPERESDV        1904\n",
            "EDADPESDV        17278\n",
            "PAISNACPESDV     30281\n",
            "TDVIOFIS             0\n",
            "TDVIOPSI             0\n",
            "TDVIOSEX             0\n",
            "TDVIOECOYPATR        0\n",
            "TDVIOSIMB            0\n",
            "TDVIODOM             0\n",
            "MDVIOINST            0\n",
            "MDVIOLABO            0\n",
            "MVIOCLIBREP          0\n",
            "MDVIOOBST            0\n",
            "MDVIOMEDIA           0\n",
            "MDVIOOTR             0\n",
            "VCLPERAGRE        3395\n",
            "GDLPERAGRE        9213\n",
            "POBLPROV          1312\n",
            "dtype: int64\n"
          ]
        }
      ]
    },
    {
      "cell_type": "code",
      "source": [
        "rows_with_missing_values = df[df.isnull().any(axis=1)]\n",
        "print(rows_with_missing_values)"
      ],
      "metadata": {
        "colab": {
          "base_uri": "https://localhost:8080/"
        },
        "collapsed": true,
        "id": "ryMBwUev0SxP",
        "outputId": "ce638633-9388-4f06-be97-cd857406a743"
      },
      "execution_count": 84,
      "outputs": [
        {
          "output_type": "stream",
          "name": "stdout",
          "text": [
            "        Año                Fecha       PRVPESV GENPERESDV  EDADPESDV  \\\n",
            "0      2023  2023-01-01 00:00:00  Buenos Aires      Mujer        NaN   \n",
            "3      2023  2023-01-01 00:00:00    Entre Ríos      Mujer       28.0   \n",
            "7      2023  2023-01-01 00:00:00       Tucumán      Mujer        NaN   \n",
            "10     2023  2023-01-01 00:00:00  Buenos Aires      Mujer        NaN   \n",
            "12     2023  2023-01-01 00:00:00      Santa Fe      Mujer       52.0   \n",
            "...     ...                  ...           ...        ...        ...   \n",
            "89533  2020           12/31/2020  Buenos Aires      Mujer        NaN   \n",
            "89535  2020           12/31/2020  Buenos Aires      Mujer       30.0   \n",
            "89536  2020           12/31/2020  Buenos Aires      Mujer       40.0   \n",
            "89537  2020           12/31/2020  Buenos Aires      Mujer       22.0   \n",
            "89539  2020           12/31/2020  Buenos Aires      Mujer       21.0   \n",
            "\n",
            "      PAISNACPESDV TDVIOFIS TDVIOPSI TDVIOSEX TDVIOECOYPATR  ... TDVIODOM  \\\n",
            "0              NaN       Si       Si       No            No  ...       Si   \n",
            "3              NaN       No       Si       No            No  ...       Si   \n",
            "7        Argentina       Si       Si       No            No  ...       Si   \n",
            "10             NaN       Si       Si       No            No  ...       Si   \n",
            "12             NaN       Si       Si       No            No  ...       Si   \n",
            "...            ...      ...      ...      ...           ...  ...      ...   \n",
            "89533          NaN       Si       Si       No            No  ...       Si   \n",
            "89535          NaN       Si       Si       No            No  ...       Si   \n",
            "89536          NaN       Si       Si       No            No  ...       Si   \n",
            "89537          NaN       Si       Si       No            No  ...       Si   \n",
            "89539          NaN       Si       Si       No            No  ...       Si   \n",
            "\n",
            "      MDVIOINST MDVIOLABO MVIOCLIBREP MDVIOOBST MDVIOMEDIA MDVIOOTR  \\\n",
            "0            No        No          No        No         No       No   \n",
            "3            No        No          No        No         No       No   \n",
            "7            No        No          No        No         No       No   \n",
            "10           No        No          No        No         No       No   \n",
            "12           No        No          No        No         No       No   \n",
            "...         ...       ...         ...       ...        ...      ...   \n",
            "89533        No        No          No        No         No       No   \n",
            "89535        No        No          No        No         No       No   \n",
            "89536        No        No          No        No         No       No   \n",
            "89537        No        No          No        No         No       No   \n",
            "89539        No        No          No        No         No       No   \n",
            "\n",
            "          VCLPERAGRE GDLPERAGRE  POBLPROV  \n",
            "0             Pareja      Varon  17569053  \n",
            "3             Pareja      Varon   1426426  \n",
            "7             Pareja      Varon   1703186  \n",
            "10         Ex pareja      Varon  17569053  \n",
            "12            Pareja      Varon   3556522  \n",
            "...              ...        ...       ...  \n",
            "89533         Pareja      Varon  17569053  \n",
            "89535         Pareja      Varon  17569053  \n",
            "89536  Otro familiar       Otro  17569053  \n",
            "89537      Ex pareja      Varon  17569053  \n",
            "89539         Pareja      Varon  17569053  \n",
            "\n",
            "[40772 rows x 21 columns]\n"
          ]
        }
      ]
    },
    {
      "cell_type": "markdown",
      "source": [
        "# **Seleccion de método de feature selection para reducir la dimensionalidad del dataset**\n"
      ],
      "metadata": {
        "id": "NMDOOYn38JDe"
      }
    },
    {
      "cell_type": "markdown",
      "source": [
        "**Vamos a elegir Nuestra Columna \"TDVIOFIS\" como la columna Objetivo (´y´)**\n",
        "\n",
        "**y Tomaremos todas las demas Columnas que puedan tener relacion con el objetivo**"
      ],
      "metadata": {
        "id": "BrdOA6yd9Esp"
      }
    },
    {
      "cell_type": "code",
      "source": [
        "import pandas as pd\n",
        "import numpy as np\n",
        "from sklearn.feature_selection import RFE\n",
        "from sklearn.linear_model import LogisticRegression\n",
        "from sklearn.model_selection import train_test_split"
      ],
      "metadata": {
        "id": "hiWvFkc89eZS"
      },
      "execution_count": 85,
      "outputs": []
    },
    {
      "cell_type": "code",
      "source": [
        "y = df['TDVIOFIS']\n",
        "X = df.drop(columns=['TDVIOFIS','Año','Fecha',])"
      ],
      "metadata": {
        "id": "YK3QjCZU9kn6"
      },
      "execution_count": 86,
      "outputs": []
    },
    {
      "cell_type": "markdown",
      "source": [
        "# **Identificar columnas numéricas y categóricas**"
      ],
      "metadata": {
        "id": "QWTySd3yD-vF"
      }
    },
    {
      "cell_type": "code",
      "source": [
        "numeric_cols = X.select_dtypes(include=['number']).columns\n",
        "categorical_cols = X.select_dtypes(include=['object']).columns"
      ],
      "metadata": {
        "id": "YO0powjSCwE9"
      },
      "execution_count": 87,
      "outputs": []
    },
    {
      "cell_type": "code",
      "source": [
        "X[numeric_cols] = X[numeric_cols].fillna(X[numeric_cols].mean())"
      ],
      "metadata": {
        "id": "dFwkbt6LEYHL"
      },
      "execution_count": 88,
      "outputs": []
    },
    {
      "cell_type": "code",
      "source": [
        "print(X.isnull().sum())"
      ],
      "metadata": {
        "colab": {
          "base_uri": "https://localhost:8080/"
        },
        "id": "gb94d0RyEeuD",
        "outputId": "e1fe3c51-673b-4e8a-bb35-c6c19b1c7ac4"
      },
      "execution_count": 89,
      "outputs": [
        {
          "output_type": "stream",
          "name": "stdout",
          "text": [
            "PRVPESV              0\n",
            "GENPERESDV        1904\n",
            "EDADPESDV            0\n",
            "PAISNACPESDV     30281\n",
            "TDVIOPSI             0\n",
            "TDVIOSEX             0\n",
            "TDVIOECOYPATR        0\n",
            "TDVIOSIMB            0\n",
            "TDVIODOM             0\n",
            "MDVIOINST            0\n",
            "MDVIOLABO            0\n",
            "MVIOCLIBREP          0\n",
            "MDVIOOBST            0\n",
            "MDVIOMEDIA           0\n",
            "MDVIOOTR             0\n",
            "VCLPERAGRE        3395\n",
            "GDLPERAGRE        9213\n",
            "POBLPROV          1312\n",
            "dtype: int64\n"
          ]
        }
      ]
    },
    {
      "cell_type": "code",
      "source": [
        "X[categorical_cols] = X[categorical_cols].apply(lambda col: col.fillna(col.mode()[0]))"
      ],
      "metadata": {
        "id": "qaDl3sOsN5Hs"
      },
      "execution_count": 90,
      "outputs": []
    },
    {
      "cell_type": "code",
      "source": [
        "X = X.dropna()"
      ],
      "metadata": {
        "id": "FmO8yhXqN-pD"
      },
      "execution_count": 91,
      "outputs": []
    },
    {
      "cell_type": "code",
      "source": [
        "print(\"Valores perdidos en X después de la eliminación:\", X.isnull().sum().sum())\n",
        "print(\"Valores perdidos en y:\", y.isnull().sum())"
      ],
      "metadata": {
        "colab": {
          "base_uri": "https://localhost:8080/"
        },
        "id": "3fbSBpD_OCJm",
        "outputId": "fcf7b135-3977-47f3-9b29-5e833f6533c8"
      },
      "execution_count": 92,
      "outputs": [
        {
          "output_type": "stream",
          "name": "stdout",
          "text": [
            "Valores perdidos en X después de la eliminación: 0\n",
            "Valores perdidos en y: 0\n"
          ]
        }
      ]
    },
    {
      "cell_type": "markdown",
      "source": [
        "# **Selección de características con RFE**"
      ],
      "metadata": {
        "id": "4q5J0Ab7FQfQ"
      }
    },
    {
      "cell_type": "code",
      "source": [
        "from sklearn.feature_selection import RFE\n",
        "from sklearn.linear_model import LogisticRegression"
      ],
      "metadata": {
        "id": "dCM--ppIEnXn"
      },
      "execution_count": 93,
      "outputs": []
    },
    {
      "cell_type": "code",
      "source": [
        "X = pd.get_dummies(X, columns=categorical_cols, drop_first=True)"
      ],
      "metadata": {
        "id": "7kmoD6S-E3ed"
      },
      "execution_count": 94,
      "outputs": []
    },
    {
      "cell_type": "code",
      "source": [
        "X_train, X_test, y_train, y_test = train_test_split(X, y, test_size=0.3, random_state=42)"
      ],
      "metadata": {
        "id": "fsw3pafGFsdL"
      },
      "execution_count": 95,
      "outputs": []
    },
    {
      "cell_type": "code",
      "source": [
        "model = LogisticRegression(max_iter=1000)\n",
        "rfe = RFE(model, n_features_to_select=10, step=1)\n",
        "X_train_rfe = rfe.fit_transform(X_train, y_train)\n",
        "X_test_rfe = rfe.transform(X_test)"
      ],
      "metadata": {
        "id": "ezUT9_ehFunu"
      },
      "execution_count": 96,
      "outputs": []
    },
    {
      "cell_type": "code",
      "source": [
        "from sklearn.metrics import accuracy_score, precision_score, recall_score, f1_score"
      ],
      "metadata": {
        "id": "aEIvhfL7TXpH"
      },
      "execution_count": 97,
      "outputs": []
    },
    {
      "cell_type": "code",
      "source": [
        "model.fit(X_train_rfe, y_train)"
      ],
      "metadata": {
        "colab": {
          "base_uri": "https://localhost:8080/",
          "height": 95
        },
        "id": "dtqZthYlKEzR",
        "outputId": "bd6d5868-c758-4160-dd79-c5502676e6a3"
      },
      "execution_count": 98,
      "outputs": [
        {
          "output_type": "execute_result",
          "data": {
            "text/plain": [
              "LogisticRegression(max_iter=1000)"
            ],
            "text/html": [
              "<style>#sk-container-id-2 {color: black;background-color: white;}#sk-container-id-2 pre{padding: 0;}#sk-container-id-2 div.sk-toggleable {background-color: white;}#sk-container-id-2 label.sk-toggleable__label {cursor: pointer;display: block;width: 100%;margin-bottom: 0;padding: 0.3em;box-sizing: border-box;text-align: center;}#sk-container-id-2 label.sk-toggleable__label-arrow:before {content: \"▸\";float: left;margin-right: 0.25em;color: #696969;}#sk-container-id-2 label.sk-toggleable__label-arrow:hover:before {color: black;}#sk-container-id-2 div.sk-estimator:hover label.sk-toggleable__label-arrow:before {color: black;}#sk-container-id-2 div.sk-toggleable__content {max-height: 0;max-width: 0;overflow: hidden;text-align: left;background-color: #f0f8ff;}#sk-container-id-2 div.sk-toggleable__content pre {margin: 0.2em;color: black;border-radius: 0.25em;background-color: #f0f8ff;}#sk-container-id-2 input.sk-toggleable__control:checked~div.sk-toggleable__content {max-height: 200px;max-width: 100%;overflow: auto;}#sk-container-id-2 input.sk-toggleable__control:checked~label.sk-toggleable__label-arrow:before {content: \"▾\";}#sk-container-id-2 div.sk-estimator input.sk-toggleable__control:checked~label.sk-toggleable__label {background-color: #d4ebff;}#sk-container-id-2 div.sk-label input.sk-toggleable__control:checked~label.sk-toggleable__label {background-color: #d4ebff;}#sk-container-id-2 input.sk-hidden--visually {border: 0;clip: rect(1px 1px 1px 1px);clip: rect(1px, 1px, 1px, 1px);height: 1px;margin: -1px;overflow: hidden;padding: 0;position: absolute;width: 1px;}#sk-container-id-2 div.sk-estimator {font-family: monospace;background-color: #f0f8ff;border: 1px dotted black;border-radius: 0.25em;box-sizing: border-box;margin-bottom: 0.5em;}#sk-container-id-2 div.sk-estimator:hover {background-color: #d4ebff;}#sk-container-id-2 div.sk-parallel-item::after {content: \"\";width: 100%;border-bottom: 1px solid gray;flex-grow: 1;}#sk-container-id-2 div.sk-label:hover label.sk-toggleable__label {background-color: #d4ebff;}#sk-container-id-2 div.sk-serial::before {content: \"\";position: absolute;border-left: 1px solid gray;box-sizing: border-box;top: 0;bottom: 0;left: 50%;z-index: 0;}#sk-container-id-2 div.sk-serial {display: flex;flex-direction: column;align-items: center;background-color: white;padding-right: 0.2em;padding-left: 0.2em;position: relative;}#sk-container-id-2 div.sk-item {position: relative;z-index: 1;}#sk-container-id-2 div.sk-parallel {display: flex;align-items: stretch;justify-content: center;background-color: white;position: relative;}#sk-container-id-2 div.sk-item::before, #sk-container-id-2 div.sk-parallel-item::before {content: \"\";position: absolute;border-left: 1px solid gray;box-sizing: border-box;top: 0;bottom: 0;left: 50%;z-index: -1;}#sk-container-id-2 div.sk-parallel-item {display: flex;flex-direction: column;z-index: 1;position: relative;background-color: white;}#sk-container-id-2 div.sk-parallel-item:first-child::after {align-self: flex-end;width: 50%;}#sk-container-id-2 div.sk-parallel-item:last-child::after {align-self: flex-start;width: 50%;}#sk-container-id-2 div.sk-parallel-item:only-child::after {width: 0;}#sk-container-id-2 div.sk-dashed-wrapped {border: 1px dashed gray;margin: 0 0.4em 0.5em 0.4em;box-sizing: border-box;padding-bottom: 0.4em;background-color: white;}#sk-container-id-2 div.sk-label label {font-family: monospace;font-weight: bold;display: inline-block;line-height: 1.2em;}#sk-container-id-2 div.sk-label-container {text-align: center;}#sk-container-id-2 div.sk-container {/* jupyter's `normalize.less` sets `[hidden] { display: none; }` but bootstrap.min.css set `[hidden] { display: none !important; }` so we also need the `!important` here to be able to override the default hidden behavior on the sphinx rendered scikit-learn.org. See: https://github.com/scikit-learn/scikit-learn/issues/21755 */display: inline-block !important;position: relative;}#sk-container-id-2 div.sk-text-repr-fallback {display: none;}</style><div id=\"sk-container-id-2\" class=\"sk-top-container\"><div class=\"sk-text-repr-fallback\"><pre>LogisticRegression(max_iter=1000)</pre><b>In a Jupyter environment, please rerun this cell to show the HTML representation or trust the notebook. <br />On GitHub, the HTML representation is unable to render, please try loading this page with nbviewer.org.</b></div><div class=\"sk-container\" hidden><div class=\"sk-item\"><div class=\"sk-estimator sk-toggleable\"><input class=\"sk-toggleable__control sk-hidden--visually\" id=\"sk-estimator-id-2\" type=\"checkbox\" checked><label for=\"sk-estimator-id-2\" class=\"sk-toggleable__label sk-toggleable__label-arrow\">LogisticRegression</label><div class=\"sk-toggleable__content\"><pre>LogisticRegression(max_iter=1000)</pre></div></div></div></div></div>"
            ]
          },
          "metadata": {},
          "execution_count": 98
        }
      ]
    },
    {
      "cell_type": "code",
      "source": [
        "y_pred = model.predict(X_test_rfe)"
      ],
      "metadata": {
        "id": "So5YNWmAKiK0"
      },
      "execution_count": 99,
      "outputs": []
    },
    {
      "cell_type": "code",
      "source": [
        "accuracy = accuracy_score(y_test, y_pred)\n",
        "precision = precision_score(y_test, y_pred, pos_label='Si')\n",
        "recall = recall_score(y_test, y_pred, pos_label='Si')\n",
        "f1 = f1_score(y_test, y_pred, pos_label='Si')"
      ],
      "metadata": {
        "id": "cRtKZqUtO79f"
      },
      "execution_count": 100,
      "outputs": []
    },
    {
      "cell_type": "code",
      "source": [
        "print(f'Accuracy: {accuracy}')\n",
        "print(f'Precision: {precision}')\n",
        "print(f'Recall: {recall}')\n",
        "print(f'F1 Score: {f1}')"
      ],
      "metadata": {
        "id": "pVeTD5uHTs-4",
        "outputId": "fb980fe0-9e67-4d7b-dc0e-04babd0ca27b",
        "colab": {
          "base_uri": "https://localhost:8080/"
        }
      },
      "execution_count": 101,
      "outputs": [
        {
          "output_type": "stream",
          "name": "stdout",
          "text": [
            "Accuracy: 0.6978259250986524\n",
            "Precision: 0.6972119721197212\n",
            "Recall: 0.9587303377121272\n",
            "F1 Score: 0.80732072067795\n"
          ]
        }
      ]
    },
    {
      "cell_type": "markdown",
      "source": [
        "# **Conclusiones**\n",
        "\n"
      ],
      "metadata": {
        "id": "QMz0jOPHx1cO"
      }
    },
    {
      "cell_type": "markdown",
      "source": [
        "## **Precisión global (Accuracy):**\n",
        "###  La precisión global del modelo es del 69.78%, lo que significa que aproximadamente el 70% de todas las predicciones realizadas por el modelo son correctas. El modelo tiene un rendimiento razonable, pero hay margen de mejora aun.\n",
        "\n",
        "\n",
        "## **Precisión (Precision):**\n",
        "###    La precisión es del 69.72%, lo que indica que cuando el modelo predice una clase positiva (por ejemplo, 'Sí'), es correcto aproximadamente el 70% de las veces. Esto implica que hay un número significativo de falsos positivos (predicciones incorrectas de positivos).\n",
        "\n",
        "## **Sensibilidad (Recall):**\n",
        "###    La sensibilidad es del 95.87%, lo que significa que el modelo es capaz de identificar correctamente el 95.87% de los casos positivos verdaderos. Este es un valor muy alto, lo que indica que el modelo tiene una alta capacidad para detectar casos positivos. Sin embargo, también sugiere que el modelo puede estar sacrificando precisión para lograr esta alta sensibilidad, Osea, puede estar clasificando muchos ejemplos como positivos para asegurarse de no perder ninguno verdadero positivo.\n",
        "\n",
        "## **F1 Score:**\n",
        "###   El F1 Score es de 0.8073 (aproximadamente 81%), lo que representa un buen equilibrio entre precisión y sensibilidad. Este valor alto sugiere que el modelo tiene un desempeño sólido en general, considerando tanto la capacidad de identificar positivos como la exactitud de esas predicciones."
      ],
      "metadata": {
        "id": "QRpLBgQM0h7W"
      }
    }
  ],
  "metadata": {
    "colab": {
      "provenance": [],
      "collapsed_sections": [
        "-uPZfcT2hagU",
        "Xpd6DTLZho9s",
        "GVd2_c8PwbTO",
        "93Ym1c2Pnwp_",
        "tQUsIdvJoPAJ",
        "PSNpO5MSrap2",
        "mGiHSZkA0Az0",
        "NMDOOYn38JDe",
        "QWTySd3yD-vF",
        "QMz0jOPHx1cO"
      ],
      "authorship_tag": "ABX9TyOJhVqpNGRC8kX+hKItc/Rh",
      "include_colab_link": true
    },
    "kernelspec": {
      "display_name": "Python 3",
      "name": "python3"
    },
    "language_info": {
      "name": "python"
    }
  },
  "nbformat": 4,
  "nbformat_minor": 0
}